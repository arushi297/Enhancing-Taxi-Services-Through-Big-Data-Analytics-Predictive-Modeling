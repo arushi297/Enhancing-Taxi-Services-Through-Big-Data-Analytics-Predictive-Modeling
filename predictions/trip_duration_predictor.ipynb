{
 "cells": [
  {
   "cell_type": "code",
   "execution_count": 1,
   "metadata": {},
   "outputs": [],
   "source": [
    "import os\n",
    "import pandas as pd\n",
    "os.environ[\"JAVA_HOME\"] = \"/scratch/sg7729/jdk8u292-b10/\"\n",
    "os.environ[\"SPARK_HOME\"] = \"/scratch/sg7729/spark-3.1.1-bin-hadoop3.2/\""
   ]
  },
  {
   "cell_type": "code",
   "execution_count": 2,
   "metadata": {},
   "outputs": [],
   "source": [
    "import os\n",
    "\n",
    "# Your directory path\n",
    "directory_path = '/home/sg7729/.local/bin'\n",
    "\n",
    "# Add the directory to the PATH environment variable\n",
    "os.environ['PATH'] = f\"{directory_path}:{os.environ['PATH']}\"\n"
   ]
  },
  {
   "cell_type": "code",
   "execution_count": 3,
   "metadata": {},
   "outputs": [
    {
     "name": "stderr",
     "output_type": "stream",
     "text": [
      "23/12/07 11:30:33 WARN NativeCodeLoader: Unable to load native-hadoop library for your platform... using builtin-java classes where applicable\n",
      "Using Spark's default log4j profile: org/apache/spark/log4j-defaults.properties\n",
      "Setting default log level to \"WARN\".\n",
      "To adjust logging level use sc.setLogLevel(newLevel). For SparkR, use setLogLevel(newLevel).\n"
     ]
    },
    {
     "data": {
      "text/html": [
       "\n",
       "            <div>\n",
       "                <p><b>SparkSession - in-memory</b></p>\n",
       "                \n",
       "        <div>\n",
       "            <p><b>SparkContext</b></p>\n",
       "\n",
       "            <p><a href=\"http://gr026.hpc.nyu.edu:4040\">Spark UI</a></p>\n",
       "\n",
       "            <dl>\n",
       "              <dt>Version</dt>\n",
       "                <dd><code>v3.1.1</code></dd>\n",
       "              <dt>Master</dt>\n",
       "                <dd><code>local[*]</code></dd>\n",
       "              <dt>AppName</dt>\n",
       "                <dd><code>pyspark-shell</code></dd>\n",
       "            </dl>\n",
       "        </div>\n",
       "        \n",
       "            </div>\n",
       "        "
      ],
      "text/plain": [
       "<pyspark.sql.session.SparkSession at 0x1510422af450>"
      ]
     },
     "execution_count": 3,
     "metadata": {},
     "output_type": "execute_result"
    }
   ],
   "source": [
    "import findspark\n",
    "findspark.init()\n",
    "from pyspark.sql import SparkSession\n",
    "spark = SparkSession.builder.master(\"local[*]\").getOrCreate()\n",
    "spark.conf.set(\"spark.sql.repl.eagerEval.enabled\", True) # Property used to format output tables better\n",
    "spark"
   ]
  },
  {
   "cell_type": "code",
   "execution_count": 4,
   "metadata": {},
   "outputs": [],
   "source": [
    "\n",
    "data_folder = '/scratch/sg7729/Big data Project/Bigdata/'\n",
    "high_volume_filename = '/scratch/sg7729/Big data Project/Bigdata/high_volume.csv'\n",
    "green_taxi_filename = '/scratch/sg7729/Big data Project/Bigdata/green_taxi.csv'\n",
    "yellow_taxi_filename = '/scratch/sg7729/Big data Project/Bigdata/yellow_taxi.csv'"
   ]
  },
  {
   "cell_type": "code",
   "execution_count": 5,
   "metadata": {},
   "outputs": [],
   "source": [
    "green_taxi_data = spark.read.csv(green_taxi_filename, header=True)\n",
    "high_volume_data= spark.read.csv(high_volume_filename, header=True)\n",
    "yellow_taxi_data = spark.read.csv(yellow_taxi_filename, header=True)"
   ]
  },
  {
   "cell_type": "code",
   "execution_count": 6,
   "metadata": {},
   "outputs": [
    {
     "name": "stdout",
     "output_type": "stream",
     "text": [
      "Green Taxi Data Schema:\n",
      "\n",
      "Yellow Taxi Data Schema:\n",
      "\n",
      "High Volume Data Schema:\n"
     ]
    }
   ],
   "source": [
    "\n",
    "# Display the schema of each DataFrame\n",
    "print(\"Green Taxi Data Schema:\")\n",
    "# Drop the _c0 column\n",
    "green_taxi_data = green_taxi_data.drop(\"_c0\")\n",
    "\n",
    "print(\"\\nYellow Taxi Data Schema:\")\n",
    "# Drop the _c0 column\n",
    "yellow_taxi_data = yellow_taxi_data.drop(\"_c0\")\n",
    "\n",
    "print(\"\\nHigh Volume Data Schema:\")\n",
    "# Drop the _c0 column\n",
    "high_volume_data = high_volume_data.drop(\"_c0\")"
   ]
  },
  {
   "cell_type": "code",
   "execution_count": 7,
   "metadata": {},
   "outputs": [],
   "source": [
    "from pyspark.sql import SparkSession\n",
    "from pyspark.sql.functions import col, hour,dayofmonth\n",
    "from pyspark.sql.types import TimestampType"
   ]
  },
  {
   "cell_type": "code",
   "execution_count": 8,
   "metadata": {},
   "outputs": [],
   "source": [
    "# Convert datetime columns to timestamp\n",
    "green_taxi_data = green_taxi_data.withColumn(\"pickup_datetime\", col(\"lpep_pickup_datetime\").cast(TimestampType()))\n",
    "yellow_taxi_data = yellow_taxi_data.withColumn(\"pickup_datetime\", col(\"tpep_pickup_datetime\").cast(TimestampType()))\n",
    "high_volume_data = high_volume_data.withColumn(\"pickup_datetime\", col(\"pickup_datetime\").cast(TimestampType()))\n",
    "\n",
    "# Feature engineering - Extract hour of the day\n",
    "green_taxi_data = green_taxi_data.withColumn(\"hour_of_day\", hour(col(\"pickup_datetime\")))\n",
    "yellow_taxi_data = yellow_taxi_data.withColumn(\"hour_of_day\", hour(col(\"pickup_datetime\")))\n",
    "high_volume_data = high_volume_data.withColumn(\"hour_of_day\", hour(col(\"pickup_datetime\")))\n",
    "\n",
    "# Feature engineering - Extract day of the month\n",
    "green_taxi_data = green_taxi_data.withColumn(\"day_of_the_month\", dayofmonth(col(\"pickup_datetime\")))\n",
    "yellow_taxi_data = yellow_taxi_data.withColumn(\"day_of_the_month\", dayofmonth(col(\"pickup_datetime\")))\n",
    "high_volume_data = high_volume_data.withColumn(\"day_of_the_month\", dayofmonth(col(\"pickup_datetime\")))\n"
   ]
  },
  {
   "cell_type": "code",
   "execution_count": 9,
   "metadata": {},
   "outputs": [],
   "source": [
    "from pyspark.sql import SparkSession\n",
    "from pyspark.sql.functions import col, sum, when, round\n",
    "from pyspark.sql.types import FloatType\n",
    "\n",
    "# Create Spark session\n",
    "spark = SparkSession.builder.appName(\"FeatureEngineering\").getOrCreate()\n",
    "\n",
    "# Assuming your DataFrame is named 'df'\n",
    "# If not, replace 'df' with the actual DataFrame name\n",
    "\n",
    "# df = green_taxi_data.drop(*columns_to_drop)\n",
    "df = green_taxi_data\n",
    "\n",
    "# Task 2: Convert and create a new column 'total_fare'\n",
    "df = df.withColumn('total_amount', col('total_amount').cast(FloatType())) \\\n",
    "       .withColumn('congestion_surcharge', when(col('congestion_surcharge').cast(FloatType()).isNotNull(),\n",
    "                                                 col('congestion_surcharge').cast(FloatType())).otherwise(0.0)) \\\n",
    "       .withColumn('total_fare', round(col('total_amount') + col('congestion_surcharge'), 2)) \\\n",
    "       .drop('total_amount', 'congestion_surcharge')\n",
    "\n",
    "green_taxi_cleaned_data = df"
   ]
  },
  {
   "cell_type": "code",
   "execution_count": 11,
   "metadata": {},
   "outputs": [],
   "source": [
    "# Assuming df is your DataFrame\n",
    "\n",
    "from pyspark.sql.functions import col, unix_timestamp\n",
    "# Let's assume that 'lpep_pickup_datetime' and 'lpep_dropoff_datetime' are in the format 'yyyy-MM-dd HH:mm:ss'\n",
    "df = df.withColumn(\"lpep_pickup_datetime\", unix_timestamp(\"lpep_pickup_datetime\", \"yyyy-MM-dd HH:mm:ss\").cast(\"timestamp\"))\n",
    "df = df.withColumn(\"lpep_dropoff_datetime\", unix_timestamp(\"lpep_dropoff_datetime\", \"yyyy-MM-dd HH:mm:ss\").cast(\"timestamp\"))\n",
    "\n",
    "# Calculate trip duration in seconds\n",
    "df = df.withColumn(\"trip_duration_seconds\", (col(\"lpep_dropoff_datetime\").cast(\"long\") - col(\"lpep_pickup_datetime\").cast(\"long\")))\n",
    "\n",
    "# Optionally, you can convert trip duration to minutes\n",
    "df = df.withColumn(\"trip_duration_minutes\", col(\"trip_duration_seconds\") / 60.0)"
   ]
  },
  {
   "cell_type": "code",
   "execution_count": 15,
   "metadata": {},
   "outputs": [],
   "source": [
    "\n",
    "green_taxi_cleaned_data = df.select(\"trip_duration_minutes\", \"total_fare\", \"trip_distance\", \"PULocationID\", \"DOLocationID\")\n",
    "\n",
    "green_taxi_cleaned_data = green_taxi_cleaned_data.dropDuplicates([\"trip_duration_minutes\", \"total_fare\", \"trip_distance\", \"PULocationID\", \"DOLocationID\"])"
   ]
  },
  {
   "cell_type": "code",
   "execution_count": null,
   "metadata": {},
   "outputs": [],
   "source": [
    "from pyspark.sql import SparkSession\n",
    "from pyspark.sql.functions import col, sum, when, round\n",
    "from pyspark.sql.types import FloatType\n",
    "\n",
    "# Create Spark session\n",
    "spark = SparkSession.builder.appName(\"FeatureEngineering\").getOrCreate()\n",
    "\n",
    "# Assuming your DataFrame is named 'df'\n",
    "# If not, replace 'df' with the actual DataFrame name\n",
    "\n",
    "# Task 1: Drop specified columns\n",
    "columns_to_drop = ['VendorID', 'tpep_pickup_datetime', 'tpep_dropoff_datetime', 'store_and_fwd_flag',\n",
    "                   'RatecodeID', 'DOLocationID', 'passenger_count', 'fare_amount',\n",
    "                   'extra', 'mta_tax', 'tip_amount', 'tolls_amount', 'ehail_fee', 'improvement_surcharge',\n",
    "                   'payment_type', 'trip_type', 'pickup_datetime']\n",
    "\n",
    "# df = yellow_taxi_data.drop(*columns_to_drop)\n",
    "df = yellow_taxi_data\n",
    "# Task 2: Convert and create a new column 'total_fare'\n",
    "df = df.withColumn('total_amount', col('total_amount').cast(FloatType())) \\\n",
    "       .withColumn('Airport_fee', when(col('Airport_fee').cast(FloatType()).isNotNull(),\n",
    "                                                 col('Airport_fee').cast(FloatType())).otherwise(0.0)) \\\n",
    "       .withColumn('congestion_surcharge', when(col('congestion_surcharge').cast(FloatType()).isNotNull(),\n",
    "                                                 col('congestion_surcharge').cast(FloatType())).otherwise(0.0)) \\\n",
    "       .withColumn('total_fare', round(col('total_amount') + col('congestion_surcharge') + col('Airport_fee'), 2)) \\\n",
    "       .drop('total_amount', 'congestion_surcharge', 'Airport_fee')\n",
    "\n",
    "yellow_taxi_cleaned_data = df "
   ]
  },
  {
   "cell_type": "code",
   "execution_count": 16,
   "metadata": {},
   "outputs": [],
   "source": [
    "# Assuming df is your DataFrame\n",
    "\n",
    "from pyspark.sql.functions import col, unix_timestamp\n",
    "# Let's assume that 'lpep_pickup_datetime' and 'lpep_dropoff_datetime' are in the format 'yyyy-MM-dd HH:mm:ss'\n",
    "df = df.withColumn(\"lpep_pickup_datetime\", unix_timestamp(\"lpep_pickup_datetime\", \"yyyy-MM-dd HH:mm:ss\").cast(\"timestamp\"))\n",
    "df = df.withColumn(\"lpep_dropoff_datetime\", unix_timestamp(\"lpep_dropoff_datetime\", \"yyyy-MM-dd HH:mm:ss\").cast(\"timestamp\"))\n",
    "\n",
    "# Calculate trip duration in seconds\n",
    "df = df.withColumn(\"trip_duration_seconds\", (col(\"lpep_dropoff_datetime\").cast(\"long\") - col(\"lpep_pickup_datetime\").cast(\"long\")))\n",
    "\n",
    "# Optionally, you can convert trip duration to minutes\n",
    "df = df.withColumn(\"trip_duration_minutes\", col(\"trip_duration_seconds\") / 60.0)\n",
    "\n",
    "yellow_taxi_cleaned_data = df.select(\"trip_duration_minutes\", \"total_fare\", \"trip_distance\", \"PULocationID\", \"DOLocationID\")\n",
    "yellow_taxi_cleaned_data = yellow_taxi_cleaned_data.dropDuplicates([\"trip_duration_minutes\", \"total_fare\", \"trip_distance\", \"PULocationID\", \"DOLocationID\"])\n"
   ]
  },
  {
   "cell_type": "code",
   "execution_count": 24,
   "metadata": {},
   "outputs": [],
   "source": [
    "from pyspark.sql import SparkSession\n",
    "from pyspark.sql.functions import col, sum, when, round\n",
    "from pyspark.sql.types import FloatType\n",
    "\n",
    "# Create Spark session\n",
    "spark = SparkSession.builder.appName(\"FeatureEngineering\").getOrCreate()\n",
    "\n",
    "# Assuming your DataFrame is named 'df'\n",
    "# If not, replace 'df' with the actual DataFrame name\n",
    "\n",
    "# Task 1: Drop specified columns\n",
    "columns_to_drop = ['hvfhs_license_num', 'dispatching_base_num', 'originating_base_num', 'request_datetime',\n",
    "                   'on_scene_datetime', 'pickup_datetime', 'dropoff_datetime',\n",
    "                   'trip_time', 'base_passenger_fare', 'tolls', 'bcf', 'sales_tax', 'congestion_surcharge',\n",
    "                   'airport_fee', 'tips', 'shared_match_flag', 'shared_request_flag', 'access_a_ride_flag', 'wav_request_flag', 'wav_match_flag']\n",
    "\n",
    "# df = high_volume_data.drop(*columns_to_drop)\n",
    "\n",
    "df = high_volume_data\n",
    "# Task 2: Convert and create a new column 'total_fare'\n",
    "df = df.withColumn('total_fare', col('driver_pay').cast(FloatType()))\n",
    "\n",
    "from pyspark.sql.functions import col\n",
    "df = df.drop(\"trip_distance\")\n",
    "df = df.select(\"*\", col(\"trip_miles\").cast(\"float\").alias(\"trip_distance\"))\n"
   ]
  },
  {
   "cell_type": "code",
   "execution_count": 25,
   "metadata": {},
   "outputs": [],
   "source": [
    "from pyspark.sql.functions import col, unix_timestamp\n",
    "# Let's assume that 'lpep_pickup_datetime' and 'lpep_dropoff_datetime' are in the format 'yyyy-MM-dd HH:mm:ss'\n",
    "df = df.withColumn(\"lpep_pickup_datetime\", unix_timestamp(\"pickup_datetime\", \"yyyy-MM-dd HH:mm:ss\").cast(\"timestamp\"))\n",
    "df = df.withColumn(\"lpep_dropoff_datetime\", unix_timestamp(\"dropoff_datetime\", \"yyyy-MM-dd HH:mm:ss\").cast(\"timestamp\"))\n",
    "\n",
    "# Calculate trip duration in seconds\n",
    "df = df.withColumn(\"trip_duration_seconds\", (col(\"lpep_dropoff_datetime\").cast(\"long\") - col(\"lpep_pickup_datetime\").cast(\"long\")))\n",
    "\n",
    "# Optionally, you can convert trip duration to minutes\n",
    "df = df.withColumn(\"trip_duration_minutes\", col(\"trip_duration_seconds\") / 60.0)"
   ]
  },
  {
   "cell_type": "code",
   "execution_count": 26,
   "metadata": {},
   "outputs": [],
   "source": [
    "\n",
    "high_volume_cleaned_data = df.select(\"trip_duration_minutes\", \"total_fare\", \"trip_distance\", \"PULocationID\", \"DOLocationID\")\n",
    "high_volume_cleaned_data = high_volume_cleaned_data.dropDuplicates([\"trip_duration_minutes\", \"total_fare\", \"trip_distance\", \"PULocationID\", \"DOLocationID\"])"
   ]
  },
  {
   "cell_type": "code",
   "execution_count": 27,
   "metadata": {},
   "outputs": [
    {
     "name": "stderr",
     "output_type": "stream",
     "text": [
      "                                                                                \r"
     ]
    },
    {
     "data": {
      "text/html": [
       "<table border='1'>\n",
       "<tr><th>trip_duration_minutes</th><th>total_fare</th><th>trip_distance</th><th>PULocationID</th><th>DOLocationID</th></tr>\n",
       "<tr><td>2.066666666666667</td><td>0.0</td><td>0.07</td><td>209</td><td>261</td></tr>\n",
       "<tr><td>0.21666666666666667</td><td>0.0</td><td>0.03</td><td>93</td><td>93</td></tr>\n",
       "<tr><td>7.316666666666666</td><td>4.940000057220459</td><td>1.8</td><td>215</td><td>130</td></tr>\n",
       "<tr><td>2.4166666666666665</td><td>5.380000114440918</td><td>0.62</td><td>109</td><td>109</td></tr>\n",
       "<tr><td>4.65</td><td>5.380000114440918</td><td>0.78</td><td>241</td><td>136</td></tr>\n",
       "<tr><td>6.233333333333333</td><td>5.380000114440918</td><td>1.02</td><td>91</td><td>155</td></tr>\n",
       "<tr><td>3.9833333333333334</td><td>5.380000114440918</td><td>1.28</td><td>3</td><td>184</td></tr>\n",
       "<tr><td>4.533333333333333</td><td>5.380000114440918</td><td>1.13</td><td>214</td><td>214</td></tr>\n",
       "<tr><td>6.283333333333333</td><td>5.380000114440918</td><td>0.93</td><td>216</td><td>216</td></tr>\n",
       "<tr><td>4.4</td><td>5.380000114440918</td><td>0.62</td><td>241</td><td>220</td></tr>\n",
       "<tr><td>6.3</td><td>5.380000114440918</td><td>1.03</td><td>72</td><td>39</td></tr>\n",
       "<tr><td>6.483333333333333</td><td>5.380000114440918</td><td>1.09</td><td>260</td><td>7</td></tr>\n",
       "<tr><td>4.4</td><td>5.380000114440918</td><td>0.62</td><td>85</td><td>89</td></tr>\n",
       "<tr><td>3.466666666666667</td><td>5.389999866485596</td><td>0.65</td><td>22</td><td>11</td></tr>\n",
       "<tr><td>6.65</td><td>5.389999866485596</td><td>1.0</td><td>116</td><td>116</td></tr>\n",
       "<tr><td>4.966666666666667</td><td>5.389999866485596</td><td>0.77</td><td>178</td><td>123</td></tr>\n",
       "<tr><td>6.583333333333333</td><td>5.389999866485596</td><td>1.1</td><td>136</td><td>128</td></tr>\n",
       "<tr><td>4.366666666666666</td><td>5.389999866485596</td><td>0.8</td><td>162</td><td>137</td></tr>\n",
       "<tr><td>5.05</td><td>5.389999866485596</td><td>0.81</td><td>162</td><td>137</td></tr>\n",
       "<tr><td>6.05</td><td>5.389999866485596</td><td>0.71</td><td>148</td><td>144</td></tr>\n",
       "</table>\n",
       "only showing top 20 rows\n"
      ],
      "text/plain": [
       "+---------------------+-----------------+-------------+------------+------------+\n",
       "|trip_duration_minutes|       total_fare|trip_distance|PULocationID|DOLocationID|\n",
       "+---------------------+-----------------+-------------+------------+------------+\n",
       "|    2.066666666666667|              0.0|         0.07|         209|         261|\n",
       "|  0.21666666666666667|              0.0|         0.03|          93|          93|\n",
       "|    7.316666666666666|4.940000057220459|          1.8|         215|         130|\n",
       "|   2.4166666666666665|5.380000114440918|         0.62|         109|         109|\n",
       "|                 4.65|5.380000114440918|         0.78|         241|         136|\n",
       "|    6.233333333333333|5.380000114440918|         1.02|          91|         155|\n",
       "|   3.9833333333333334|5.380000114440918|         1.28|           3|         184|\n",
       "|    4.533333333333333|5.380000114440918|         1.13|         214|         214|\n",
       "|    6.283333333333333|5.380000114440918|         0.93|         216|         216|\n",
       "|                  4.4|5.380000114440918|         0.62|         241|         220|\n",
       "|                  6.3|5.380000114440918|         1.03|          72|          39|\n",
       "|    6.483333333333333|5.380000114440918|         1.09|         260|           7|\n",
       "|                  4.4|5.380000114440918|         0.62|          85|          89|\n",
       "|    3.466666666666667|5.389999866485596|         0.65|          22|          11|\n",
       "|                 6.65|5.389999866485596|          1.0|         116|         116|\n",
       "|    4.966666666666667|5.389999866485596|         0.77|         178|         123|\n",
       "|    6.583333333333333|5.389999866485596|          1.1|         136|         128|\n",
       "|    4.366666666666666|5.389999866485596|          0.8|         162|         137|\n",
       "|                 5.05|5.389999866485596|         0.81|         162|         137|\n",
       "|                 6.05|5.389999866485596|         0.71|         148|         144|\n",
       "+---------------------+-----------------+-------------+------------+------------+\n",
       "only showing top 20 rows"
      ]
     },
     "execution_count": 27,
     "metadata": {},
     "output_type": "execute_result"
    }
   ],
   "source": [
    "combined_df = high_volume_cleaned_data.union(yellow_taxi_cleaned_data).union(green_taxi_cleaned_data)\n",
    "combined_df"
   ]
  },
  {
   "cell_type": "code",
   "execution_count": 28,
   "metadata": {},
   "outputs": [],
   "source": [
    "for column in combined_df.columns:\n",
    "    combined_df = combined_df.withColumn(column, col(column).cast(\"float\"))\n",
    "df = combined_df\n",
    "\n",
    "df = df.dropDuplicates([\"trip_duration_minutes\", \"total_fare\", \"trip_distance\", \"PULocationID\", \"DOLocationID\"])"
   ]
  },
  {
   "cell_type": "code",
   "execution_count": 29,
   "metadata": {},
   "outputs": [],
   "source": [
    "from pyspark.ml.feature import VectorAssembler, StringIndexer\n",
    "from pyspark.ml.regression import RandomForestRegressor\n",
    "from pyspark.ml import Pipeline\n",
    "\n",
    "# Assuming you have already created a SparkSession\n",
    "spark = SparkSession.builder.appName(\"RandomForestExample\").getOrCreate()\n",
    "\n",
    "# Assuming df is your DataFrame\n",
    "feature_columns = [\"trip_distance\", \"PULocationID\", \"DOLocationID\"]\n",
    "\n",
    "# Use StringIndexer for categorical features\n",
    "categorical_features = [ \"PULocationID\", \"DOLocationID\"]\n",
    "\n",
    "assembler = VectorAssembler(inputCols=[\"trip_distance\"] + [column for column in categorical_features], outputCol=\"features\")\n",
    "\n",
    "df = assembler.transform(df)\n",
    "\n",
    "(training_data, testing_data) = df.randomSplit([0.8, 0.2], seed=42)\n",
    "\n",
    "# Specify the target column ('loction_trip_count') in the labelCol parameter\n",
    "rf = RandomForestRegressor(labelCol='trip_duration_minutes', featuresCol=\"features\")\n",
    "\n",
    "\n"
   ]
  },
  {
   "cell_type": "code",
   "execution_count": null,
   "metadata": {},
   "outputs": [],
   "source": [
    "# Train the model\n",
    "model = rf.fit(training_data)"
   ]
  },
  {
   "cell_type": "code",
   "execution_count": 31,
   "metadata": {},
   "outputs": [],
   "source": [
    "predictions = model.transform(testing_data)\n"
   ]
  },
  {
   "cell_type": "code",
   "execution_count": 32,
   "metadata": {},
   "outputs": [
    {
     "name": "stderr",
     "output_type": "stream",
     "text": [
      "[Stage 65:====================================================> (196 + 4) / 200]\r"
     ]
    },
    {
     "name": "stdout",
     "output_type": "stream",
     "text": [
      "Root Mean Squared Error (RMSE) on test data = 10.891603384042266\n"
     ]
    },
    {
     "name": "stderr",
     "output_type": "stream",
     "text": [
      "                                                                                \r"
     ]
    }
   ],
   "source": [
    "from pyspark.ml.evaluation import RegressionEvaluator\n",
    "\n",
    "evaluator = RegressionEvaluator(labelCol=\"total_fare\", predictionCol=\"prediction\", metricName=\"rmse\")\n",
    "rmse = evaluator.evaluate(predictions)\n",
    "print(\"Root Mean Squared Error (RMSE) on test data =\", rmse)"
   ]
  },
  {
   "cell_type": "code",
   "execution_count": 33,
   "metadata": {},
   "outputs": [
    {
     "name": "stderr",
     "output_type": "stream",
     "text": [
      "[Stage 70:====================================================> (585 + 6) / 600]\r"
     ]
    },
    {
     "name": "stdout",
     "output_type": "stream",
     "text": [
      "+---------------------+----------+-------------+------------+------------+--------------------+------------------+\n",
      "|trip_duration_minutes|total_fare|trip_distance|PULocationID|DOLocationID|            features|        prediction|\n",
      "+---------------------+----------+-------------+------------+------------+--------------------+------------------+\n",
      "|          0.033333335|      11.0|          0.0|        53.0|       264.0|    [0.0,53.0,264.0]|13.042190967379863|\n",
      "|           0.06666667|     111.0|          0.0|        82.0|        82.0|     [0.0,82.0,82.0]|11.285202650403637|\n",
      "|          0.083333336|     56.01|         0.64|       138.0|       138.0|[0.63999998569488...|13.005540803626303|\n",
      "|                 0.75|      0.09|          0.0|       129.0|       129.0|   [0.0,129.0,129.0]|10.855465017171586|\n",
      "|           0.93333334|       0.0|         0.01|        48.0|        48.0|[0.00999999977648...| 11.44218148717334|\n",
      "+---------------------+----------+-------------+------------+------------+--------------------+------------------+\n",
      "only showing top 5 rows\n",
      "\n"
     ]
    },
    {
     "name": "stderr",
     "output_type": "stream",
     "text": [
      "                                                                                \r"
     ]
    }
   ],
   "source": [
    "predictions.show(5)"
   ]
  },
  {
   "cell_type": "code",
   "execution_count": 34,
   "metadata": {},
   "outputs": [
    {
     "name": "stderr",
     "output_type": "stream",
     "text": [
      "                                                                                \r"
     ]
    }
   ],
   "source": [
    "selected_df = predictions.select(\"trip_duration_minutes\", \"total_fare\", \"trip_distance\", \"PULocationID\", \"DOLocationID\", \"prediction\")\n",
    "selected_df.write.csv(\"trip_duration_predictions_sept.csv\", header=True, mode=\"overwrite\")"
   ]
  },
  {
   "cell_type": "code",
   "execution_count": null,
   "metadata": {},
   "outputs": [],
   "source": [
    "predictions_df = predictions.select(\"trip_duration_minutes\", \"prediction\").toPandas()\n",
    "\n"
   ]
  },
  {
   "cell_type": "code",
   "execution_count": 36,
   "metadata": {},
   "outputs": [
    {
     "data": {
      "text/plain": [
       "Text(0, 0.5, 'Frequency')"
      ]
     },
     "execution_count": 36,
     "metadata": {},
     "output_type": "execute_result"
    },
    {
     "data": {
      "image/png": "[encoded data removed]",
      "text/plain": [
       "<Figure size 1200x600 with 1 Axes>"
      ]
     },
     "metadata": {},
     "output_type": "display_data"
    }
   ],
   "source": [
    "import matplotlib.pyplot as plt\n",
    "import seaborn as sns\n",
    "import pandas as pd\n",
    "\n",
    "# Plot trip duration vs. predictions\n",
    "plt.figure(figsize=(12, 6))\n",
    "\n",
    "# Plotting trip duration\n",
    "plt.subplot(1, 2, 1)\n",
    "sns.histplot(predictions_df['trip_duration_minutes'], kde=True, color='blue')\n",
    "plt.title('Trip Duration Distribution')\n",
    "plt.xlabel('Trip Duration (minutes)')\n",
    "plt.ylabel('Frequency')"
   ]
  },
  {
   "cell_type": "code",
   "execution_count": 37,
   "metadata": {},
   "outputs": [
    {
     "data": {
      "text/plain": [
       "Text(0, 0.5, 'Frequency')"
      ]
     },
     "execution_count": 37,
     "metadata": {},
     "output_type": "execute_result"
    },
    {
     "data": {
      "image/png": "[encoded data removed]",
      "text/plain": [
       "<Figure size 640x480 with 1 Axes>"
      ]
     },
     "metadata": {},
     "output_type": "display_data"
    }
   ],
   "source": [
    "# Plotting predictions\n",
    "plt.subplot(1, 2, 2)\n",
    "sns.histplot(predictions_df['prediction'], kde=True, color='green')\n",
    "plt.title('Predictions Distribution')\n",
    "plt.xlabel('Predicted Trip Duration (minutes)')\n",
    "plt.ylabel('Frequency')"
   ]
  },
  {
   "cell_type": "code",
   "execution_count": null,
   "metadata": {},
   "outputs": [],
   "source": []
  }
 ],
 "metadata": {
  "kernelspec": {
   "display_name": "my_env",
   "language": "python",
   "name": "my_env"
  },
  "language_info": {
   "codemirror_mode": {
    "name": "ipython",
    "version": 3
   },
   "file_extension": ".py",
   "mimetype": "text/x-python",
   "name": "python",
   "nbconvert_exporter": "python",
   "pygments_lexer": "ipython3",
   "version": "3.11.5"
  }
 },
 "nbformat": 4,
 "nbformat_minor": 4
}
