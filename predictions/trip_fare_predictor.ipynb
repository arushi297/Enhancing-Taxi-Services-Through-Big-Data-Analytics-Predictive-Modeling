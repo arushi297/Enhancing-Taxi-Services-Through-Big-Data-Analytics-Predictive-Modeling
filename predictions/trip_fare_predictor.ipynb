{
 "cells": [
  {
   "cell_type": "code",
   "execution_count": 1,
   "metadata": {},
   "outputs": [],
   "source": [
    "import os\n",
    "import pandas as pd\n",
    "os.environ[\"JAVA_HOME\"] = \"/scratch/sg7729/jdk8u292-b10/\"\n",
    "os.environ[\"SPARK_HOME\"] = \"/scratch/sg7729/spark-3.1.1-bin-hadoop3.2/\""
   ]
  },
  {
   "cell_type": "code",
   "execution_count": 2,
   "metadata": {},
   "outputs": [],
   "source": [
    "import os\n",
    "\n",
    "# Your directory path\n",
    "directory_path = '/home/sg7729/.local/bin'\n",
    "\n",
    "# Add the directory to the PATH environment variable\n",
    "os.environ['PATH'] = f\"{directory_path}:{os.environ['PATH']}\"\n"
   ]
  },
  {
   "cell_type": "code",
   "execution_count": 3,
   "metadata": {},
   "outputs": [
    {
     "name": "stderr",
     "output_type": "stream",
     "text": [
      "23/12/07 09:48:03 WARN NativeCodeLoader: Unable to load native-hadoop library for your platform... using builtin-java classes where applicable\n",
      "Using Spark's default log4j profile: org/apache/spark/log4j-defaults.properties\n",
      "Setting default log level to \"WARN\".\n",
      "To adjust logging level use sc.setLogLevel(newLevel). For SparkR, use setLogLevel(newLevel).\n"
     ]
    },
    {
     "data": {
      "text/html": [
       "\n",
       "            <div>\n",
       "                <p><b>SparkSession - in-memory</b></p>\n",
       "                \n",
       "        <div>\n",
       "            <p><b>SparkContext</b></p>\n",
       "\n",
       "            <p><a href=\"http://gr026.hpc.nyu.edu:4040\">Spark UI</a></p>\n",
       "\n",
       "            <dl>\n",
       "              <dt>Version</dt>\n",
       "                <dd><code>v3.1.1</code></dd>\n",
       "              <dt>Master</dt>\n",
       "                <dd><code>local[*]</code></dd>\n",
       "              <dt>AppName</dt>\n",
       "                <dd><code>pyspark-shell</code></dd>\n",
       "            </dl>\n",
       "        </div>\n",
       "        \n",
       "            </div>\n",
       "        "
      ],
      "text/plain": [
       "<pyspark.sql.session.SparkSession at 0x14e8fda9af90>"
      ]
     },
     "execution_count": 3,
     "metadata": {},
     "output_type": "execute_result"
    }
   ],
   "source": [
    "import findspark\n",
    "findspark.init()\n",
    "from pyspark.sql import SparkSession\n",
    "spark = SparkSession.builder.master(\"local[*]\").getOrCreate()\n",
    "spark.conf.set(\"spark.sql.repl.eagerEval.enabled\", True) # Property used to format output tables better\n",
    "spark"
   ]
  },
  {
   "cell_type": "code",
   "execution_count": 4,
   "metadata": {},
   "outputs": [],
   "source": [
    "\n",
    "data_folder = '/scratch/sg7729/Big data Project/Bigdata/'\n",
    "high_volume_filename = '/scratch/sg7729/Big data Project/Bigdata/high_volume.csv'\n",
    "green_taxi_filename = '/scratch/sg7729/Big data Project/Bigdata/green_taxi.csv'\n",
    "yellow_taxi_filename = '/scratch/sg7729/Big data Project/Bigdata/yellow_taxi.csv'"
   ]
  },
  {
   "cell_type": "code",
   "execution_count": 5,
   "metadata": {},
   "outputs": [
    {
     "name": "stderr",
     "output_type": "stream",
     "text": [
      "                                                                                \r"
     ]
    }
   ],
   "source": [
    "green_taxi_data = spark.read.csv(green_taxi_filename, header=True)\n",
    "high_volume_data= spark.read.csv(high_volume_filename, header=True)\n",
    "yellow_taxi_data = spark.read.csv(yellow_taxi_filename, header=True)"
   ]
  },
  {
   "cell_type": "code",
   "execution_count": 6,
   "metadata": {},
   "outputs": [
    {
     "name": "stdout",
     "output_type": "stream",
     "text": [
      "Green Taxi Data Schema:\n",
      "root\n",
      " |-- VendorID: string (nullable = true)\n",
      " |-- lpep_pickup_datetime: string (nullable = true)\n",
      " |-- lpep_dropoff_datetime: string (nullable = true)\n",
      " |-- store_and_fwd_flag: string (nullable = true)\n",
      " |-- RatecodeID: string (nullable = true)\n",
      " |-- PULocationID: string (nullable = true)\n",
      " |-- DOLocationID: string (nullable = true)\n",
      " |-- passenger_count: string (nullable = true)\n",
      " |-- trip_distance: string (nullable = true)\n",
      " |-- fare_amount: string (nullable = true)\n",
      " |-- extra: string (nullable = true)\n",
      " |-- mta_tax: string (nullable = true)\n",
      " |-- tip_amount: string (nullable = true)\n",
      " |-- tolls_amount: string (nullable = true)\n",
      " |-- ehail_fee: string (nullable = true)\n",
      " |-- improvement_surcharge: string (nullable = true)\n",
      " |-- total_amount: string (nullable = true)\n",
      " |-- payment_type: string (nullable = true)\n",
      " |-- trip_type: string (nullable = true)\n",
      " |-- congestion_surcharge: string (nullable = true)\n",
      "\n"
     ]
    }
   ],
   "source": [
    "\n",
    "# Display the schema of each DataFrame\n",
    "print(\"Green Taxi Data Schema:\")\n",
    "# Drop the _c0 column\n",
    "green_taxi_data = green_taxi_data.drop(\"_c0\")\n",
    "\n",
    "# Show the updated schema\n",
    "green_taxi_data.printSchema()"
   ]
  },
  {
   "cell_type": "code",
   "execution_count": 7,
   "metadata": {},
   "outputs": [
    {
     "name": "stdout",
     "output_type": "stream",
     "text": [
      "\n",
      "Yellow Taxi Data Schema:\n",
      "root\n",
      " |-- VendorID: string (nullable = true)\n",
      " |-- tpep_pickup_datetime: string (nullable = true)\n",
      " |-- tpep_dropoff_datetime: string (nullable = true)\n",
      " |-- passenger_count: string (nullable = true)\n",
      " |-- trip_distance: string (nullable = true)\n",
      " |-- RatecodeID: string (nullable = true)\n",
      " |-- store_and_fwd_flag: string (nullable = true)\n",
      " |-- PULocationID: string (nullable = true)\n",
      " |-- DOLocationID: string (nullable = true)\n",
      " |-- payment_type: string (nullable = true)\n",
      " |-- fare_amount: string (nullable = true)\n",
      " |-- extra: string (nullable = true)\n",
      " |-- mta_tax: string (nullable = true)\n",
      " |-- tip_amount: string (nullable = true)\n",
      " |-- tolls_amount: string (nullable = true)\n",
      " |-- improvement_surcharge: string (nullable = true)\n",
      " |-- total_amount: string (nullable = true)\n",
      " |-- congestion_surcharge: string (nullable = true)\n",
      " |-- Airport_fee: string (nullable = true)\n",
      "\n"
     ]
    }
   ],
   "source": [
    "print(\"\\nYellow Taxi Data Schema:\")\n",
    "# Drop the _c0 column\n",
    "yellow_taxi_data = yellow_taxi_data.drop(\"_c0\")\n",
    "\n",
    "# Show the updated schema\n",
    "yellow_taxi_data.printSchema()"
   ]
  },
  {
   "cell_type": "code",
   "execution_count": 8,
   "metadata": {},
   "outputs": [
    {
     "name": "stdout",
     "output_type": "stream",
     "text": [
      "\n",
      "High Volume Data Schema:\n",
      "root\n",
      " |-- hvfhs_license_num: string (nullable = true)\n",
      " |-- dispatching_base_num: string (nullable = true)\n",
      " |-- originating_base_num: string (nullable = true)\n",
      " |-- request_datetime: string (nullable = true)\n",
      " |-- on_scene_datetime: string (nullable = true)\n",
      " |-- pickup_datetime: string (nullable = true)\n",
      " |-- dropoff_datetime: string (nullable = true)\n",
      " |-- PULocationID: string (nullable = true)\n",
      " |-- DOLocationID: string (nullable = true)\n",
      " |-- trip_miles: string (nullable = true)\n",
      " |-- trip_time: string (nullable = true)\n",
      " |-- base_passenger_fare: string (nullable = true)\n",
      " |-- tolls: string (nullable = true)\n",
      " |-- bcf: string (nullable = true)\n",
      " |-- sales_tax: string (nullable = true)\n",
      " |-- congestion_surcharge: string (nullable = true)\n",
      " |-- airport_fee: string (nullable = true)\n",
      " |-- tips: string (nullable = true)\n",
      " |-- driver_pay: string (nullable = true)\n",
      " |-- shared_request_flag: string (nullable = true)\n",
      " |-- shared_match_flag: string (nullable = true)\n",
      " |-- access_a_ride_flag: string (nullable = true)\n",
      " |-- wav_request_flag: string (nullable = true)\n",
      " |-- wav_match_flag: string (nullable = true)\n",
      "\n"
     ]
    }
   ],
   "source": [
    "print(\"\\nHigh Volume Data Schema:\")\n",
    "# Drop the _c0 column\n",
    "high_volume_data = high_volume_data.drop(\"_c0\")\n",
    "\n",
    "# Show the updated schema\n",
    "high_volume_data.printSchema()"
   ]
  },
  {
   "cell_type": "code",
   "execution_count": 9,
   "metadata": {},
   "outputs": [],
   "source": [
    "from pyspark.sql import SparkSession\n",
    "from pyspark.sql.functions import col, hour,dayofmonth\n",
    "from pyspark.sql.types import TimestampType"
   ]
  },
  {
   "cell_type": "code",
   "execution_count": 10,
   "metadata": {},
   "outputs": [],
   "source": [
    "# Convert datetime columns to timestamp\n",
    "green_taxi_data = green_taxi_data.withColumn(\"pickup_datetime\", col(\"lpep_pickup_datetime\").cast(TimestampType()))\n",
    "yellow_taxi_data = yellow_taxi_data.withColumn(\"pickup_datetime\", col(\"tpep_pickup_datetime\").cast(TimestampType()))\n",
    "high_volume_data = high_volume_data.withColumn(\"pickup_datetime\", col(\"pickup_datetime\").cast(TimestampType()))\n",
    "\n",
    "# Feature engineering - Extract hour of the day\n",
    "green_taxi_data = green_taxi_data.withColumn(\"hour_of_day\", hour(col(\"pickup_datetime\")))\n",
    "yellow_taxi_data = yellow_taxi_data.withColumn(\"hour_of_day\", hour(col(\"pickup_datetime\")))\n",
    "high_volume_data = high_volume_data.withColumn(\"hour_of_day\", hour(col(\"pickup_datetime\")))\n",
    "\n",
    "# Feature engineering - Extract day of the month\n",
    "green_taxi_data = green_taxi_data.withColumn(\"day_of_the_month\", dayofmonth(col(\"pickup_datetime\")))\n",
    "yellow_taxi_data = yellow_taxi_data.withColumn(\"day_of_the_month\", dayofmonth(col(\"pickup_datetime\")))\n",
    "high_volume_data = high_volume_data.withColumn(\"day_of_the_month\", dayofmonth(col(\"pickup_datetime\")))\n"
   ]
  },
  {
   "cell_type": "code",
   "execution_count": 16,
   "metadata": {},
   "outputs": [],
   "source": [
    "from pyspark.sql import SparkSession\n",
    "from pyspark.sql.functions import col, sum, when, round\n",
    "from pyspark.sql.types import FloatType\n",
    "\n",
    "# Create Spark session\n",
    "spark = SparkSession.builder.appName(\"FeatureEngineering\").getOrCreate()\n",
    "\n",
    "# Assuming your DataFrame is named 'df'\n",
    "# If not, replace 'df' with the actual DataFrame name\n",
    "\n",
    "# Task 1: Drop specified columns\n",
    "columns_to_drop = ['VendorID', 'lpep_pickup_datetime', 'lpep_dropoff_datetime', 'store_and_fwd_flag',\n",
    "                   'RatecodeID', 'passenger_count', 'fare_amount',\n",
    "                   'extra', 'mta_tax', 'tip_amount', 'tolls_amount', 'ehail_fee', 'improvement_surcharge',\n",
    "                   'payment_type', 'trip_type', 'pickup_datetime']\n",
    "\n",
    "# df = green_taxi_data.drop(*columns_to_drop)\n",
    "df = green_taxi_data\n",
    "\n",
    "# Task 2: Convert and create a new column 'total_fare'\n",
    "df = df.withColumn('total_amount', col('total_amount').cast(FloatType())) \\\n",
    "       .withColumn('congestion_surcharge', when(col('congestion_surcharge').cast(FloatType()).isNotNull(),\n",
    "                                                 col('congestion_surcharge').cast(FloatType())).otherwise(0.0)) \\\n",
    "       .withColumn('total_fare', round(col('total_amount') + col('congestion_surcharge'), 2)) \\\n",
    "       .drop('total_amount', 'congestion_surcharge')\n",
    "\n",
    "green_taxi_cleaned_data = df"
   ]
  },
  {
   "cell_type": "code",
   "execution_count": 17,
   "metadata": {},
   "outputs": [
    {
     "data": {
      "text/html": [
       "<table border='1'>\n",
       "<tr><th>hour_of_day</th><th>day_of_the_month</th><th>total_fare</th><th>trip_distance</th><th>PULocationID</th><th>DOLocationID</th></tr>\n",
       "<tr><td>1</td><td>1</td><td>28.94</td><td>2.87</td><td>74</td><td>238</td></tr>\n",
       "<tr><td>8</td><td>1</td><td>8.7</td><td>1.07</td><td>166</td><td>238</td></tr>\n",
       "<tr><td>8</td><td>1</td><td>19.9</td><td>3.52</td><td>75</td><td>69</td></tr>\n",
       "<tr><td>13</td><td>1</td><td>31.44</td><td>4.2</td><td>74</td><td>243</td></tr>\n",
       "<tr><td>14</td><td>1</td><td>24.0</td><td>2.93</td><td>43</td><td>142</td></tr>\n",
       "<tr><td>14</td><td>1</td><td>20.0</td><td>0.0</td><td>10</td><td>216</td></tr>\n",
       "<tr><td>15</td><td>1</td><td>10.8</td><td>1.2</td><td>61</td><td>61</td></tr>\n",
       "<tr><td>16</td><td>1</td><td>14.7</td><td>0.91</td><td>166</td><td>41</td></tr>\n",
       "<tr><td>17</td><td>1</td><td>29.98</td><td>2.04</td><td>75</td><td>237</td></tr>\n",
       "<tr><td>18</td><td>1</td><td>12.6</td><td>1.2</td><td>75</td><td>74</td></tr>\n",
       "<tr><td>18</td><td>1</td><td>60.2</td><td>11.9</td><td>93</td><td>25</td></tr>\n",
       "<tr><td>20</td><td>1</td><td>11.0</td><td>0.2</td><td>74</td><td>74</td></tr>\n",
       "<tr><td>22</td><td>1</td><td>29.62</td><td>4.03</td><td>66</td><td>17</td></tr>\n",
       "<tr><td>0</td><td>2</td><td>36.0</td><td>2.34</td><td>93</td><td>196</td></tr>\n",
       "<tr><td>13</td><td>2</td><td>13.9</td><td>1.33</td><td>95</td><td>134</td></tr>\n",
       "<tr><td>13</td><td>2</td><td>9.4</td><td>0.8</td><td>41</td><td>41</td></tr>\n",
       "<tr><td>16</td><td>2</td><td>59.18</td><td>5.97</td><td>76</td><td>132</td></tr>\n",
       "<tr><td>18</td><td>2</td><td>19.9</td><td>3.36</td><td>82</td><td>7</td></tr>\n",
       "<tr><td>22</td><td>2</td><td>74.64</td><td>15.56</td><td>93</td><td>33</td></tr>\n",
       "<tr><td>22</td><td>2</td><td>33.5</td><td>7.07</td><td>93</td><td>260</td></tr>\n",
       "</table>\n",
       "only showing top 20 rows\n"
      ],
      "text/plain": [
       "+-----------+----------------+----------+-------------+------------+------------+\n",
       "|hour_of_day|day_of_the_month|total_fare|trip_distance|PULocationID|DOLocationID|\n",
       "+-----------+----------------+----------+-------------+------------+------------+\n",
       "|          1|               1|     28.94|         2.87|          74|         238|\n",
       "|          8|               1|       8.7|         1.07|         166|         238|\n",
       "|          8|               1|      19.9|         3.52|          75|          69|\n",
       "|         13|               1|     31.44|          4.2|          74|         243|\n",
       "|         14|               1|      24.0|         2.93|          43|         142|\n",
       "|         14|               1|      20.0|          0.0|          10|         216|\n",
       "|         15|               1|      10.8|          1.2|          61|          61|\n",
       "|         16|               1|      14.7|         0.91|         166|          41|\n",
       "|         17|               1|     29.98|         2.04|          75|         237|\n",
       "|         18|               1|      12.6|          1.2|          75|          74|\n",
       "|         18|               1|      60.2|         11.9|          93|          25|\n",
       "|         20|               1|      11.0|          0.2|          74|          74|\n",
       "|         22|               1|     29.62|         4.03|          66|          17|\n",
       "|          0|               2|      36.0|         2.34|          93|         196|\n",
       "|         13|               2|      13.9|         1.33|          95|         134|\n",
       "|         13|               2|       9.4|          0.8|          41|          41|\n",
       "|         16|               2|     59.18|         5.97|          76|         132|\n",
       "|         18|               2|      19.9|         3.36|          82|           7|\n",
       "|         22|               2|     74.64|        15.56|          93|          33|\n",
       "|         22|               2|      33.5|         7.07|          93|         260|\n",
       "+-----------+----------------+----------+-------------+------------+------------+\n",
       "only showing top 20 rows"
      ]
     },
     "execution_count": 17,
     "metadata": {},
     "output_type": "execute_result"
    }
   ],
   "source": [
    "\n",
    "green_taxi_cleaned_data = green_taxi_cleaned_data.select(\"hour_of_day\", \"day_of_the_month\", \"total_fare\", \"trip_distance\", \"PULocationID\", \"DOLocationID\")\n",
    "\n",
    "green_taxi_cleaned_data = green_taxi_cleaned_data.dropDuplicates([\"hour_of_day\", \"day_of_the_month\", \"total_fare\", \"trip_distance\", \"PULocationID\", \"DOLocationID\"])"
   ]
  },
  {
   "cell_type": "code",
   "execution_count": 19,
   "metadata": {},
   "outputs": [],
   "source": [
    "from pyspark.sql import SparkSession\n",
    "from pyspark.sql.functions import col, sum, when, round\n",
    "from pyspark.sql.types import FloatType\n",
    "\n",
    "# Create Spark session\n",
    "spark = SparkSession.builder.appName(\"FeatureEngineering\").getOrCreate()\n",
    "\n",
    "# Assuming your DataFrame is named 'df'\n",
    "# If not, replace 'df' with the actual DataFrame name\n",
    "\n",
    "# Task 1: Drop specified columns\n",
    "columns_to_drop = ['VendorID', 'tpep_pickup_datetime', 'tpep_dropoff_datetime', 'store_and_fwd_flag',\n",
    "                   'RatecodeID', 'DOLocationID', 'passenger_count', 'fare_amount',\n",
    "                   'extra', 'mta_tax', 'tip_amount', 'tolls_amount', 'ehail_fee', 'improvement_surcharge',\n",
    "                   'payment_type', 'trip_type', 'pickup_datetime']\n",
    "\n",
    "# df = yellow_taxi_data.drop(*columns_to_drop)\n",
    "df = yellow_taxi_data\n",
    "# Task 2: Convert and create a new column 'total_fare'\n",
    "df = df.withColumn('total_amount', col('total_amount').cast(FloatType())) \\\n",
    "       .withColumn('Airport_fee', when(col('Airport_fee').cast(FloatType()).isNotNull(),\n",
    "                                                 col('Airport_fee').cast(FloatType())).otherwise(0.0)) \\\n",
    "       .withColumn('congestion_surcharge', when(col('congestion_surcharge').cast(FloatType()).isNotNull(),\n",
    "                                                 col('congestion_surcharge').cast(FloatType())).otherwise(0.0)) \\\n",
    "       .withColumn('total_fare', round(col('total_amount') + col('congestion_surcharge') + col('Airport_fee'), 2)) \\\n",
    "       .drop('total_amount', 'congestion_surcharge', 'Airport_fee')\n",
    "\n",
    "yellow_taxi_cleaned_data = df "
   ]
  },
  {
   "cell_type": "code",
   "execution_count": 21,
   "metadata": {},
   "outputs": [],
   "source": [
    "\n",
    "\n",
    "yellow_taxi_cleaned_data = yellow_taxi_cleaned_data.select(\"hour_of_day\", \"day_of_the_month\", \"total_fare\", \"trip_distance\", \"PULocationID\", \"DOLocationID\")\n",
    "yellow_taxi_cleaned_data = yellow_taxi_cleaned_data.dropDuplicates([\"hour_of_day\", \"day_of_the_month\", \"total_fare\", \"trip_distance\", \"PULocationID\", \"DOLocationID\"])\n"
   ]
  },
  {
   "cell_type": "code",
   "execution_count": 22,
   "metadata": {},
   "outputs": [],
   "source": [
    "from pyspark.sql import SparkSession\n",
    "from pyspark.sql.functions import col, sum, when, round\n",
    "from pyspark.sql.types import FloatType\n",
    "\n",
    "# Create Spark session\n",
    "spark = SparkSession.builder.appName(\"FeatureEngineering\").getOrCreate()\n",
    "\n",
    "# Assuming your DataFrame is named 'df'\n",
    "# If not, replace 'df' with the actual DataFrame name\n",
    "\n",
    "# Task 1: Drop specified columns\n",
    "columns_to_drop = ['hvfhs_license_num', 'dispatching_base_num', 'originating_base_num', 'request_datetime',\n",
    "                   'on_scene_datetime', 'pickup_datetime', 'dropoff_datetime',\n",
    "                   'trip_time', 'base_passenger_fare', 'tolls', 'bcf', 'sales_tax', 'congestion_surcharge',\n",
    "                   'airport_fee', 'tips', 'shared_match_flag', 'shared_request_flag', 'access_a_ride_flag', 'wav_request_flag', 'wav_match_flag']\n",
    "\n",
    "# df = high_volume_data.drop(*columns_to_drop)\n",
    "\n",
    "df = high_volume_data"
   ]
  },
  {
   "cell_type": "code",
   "execution_count": 23,
   "metadata": {},
   "outputs": [],
   "source": [
    "# Task 2: Convert and create a new column 'total_fare'\n",
    "df = df.withColumn('total_fare', col('driver_pay').cast(FloatType()))\n"
   ]
  },
  {
   "cell_type": "code",
   "execution_count": 31,
   "metadata": {},
   "outputs": [],
   "source": [
    "\n",
    "# df = df.withColumn('trip_distance', col('trip_miles').cast(FloatType()))\n",
    "\n",
    "from pyspark.sql.functions import col\n",
    "df = df.drop(\"trip_distance\")\n",
    "df = df.select(\"*\", col(\"trip_miles\").cast(\"float\").alias(\"trip_distance\"))"
   ]
  },
  {
   "cell_type": "code",
   "execution_count": 32,
   "metadata": {},
   "outputs": [],
   "source": [
    "# df = df.drop('trip_distance', 'trip_miles')\n",
    "high_volume_cleaned_data = df"
   ]
  },
  {
   "cell_type": "code",
   "execution_count": 33,
   "metadata": {},
   "outputs": [
    {
     "name": "stderr",
     "output_type": "stream",
     "text": [
      "                                                                                \r"
     ]
    },
    {
     "data": {
      "text/html": [
       "<table border='1'>\n",
       "<tr><th>hour_of_day</th><th>day_of_the_month</th><th>total_fare</th><th>trip_distance</th><th>PULocationID</th><th>DOLocationID</th></tr>\n",
       "<tr><td>8</td><td>1</td><td>0.0</td><td>0.53</td><td>235</td><td>235</td></tr>\n",
       "<tr><td>23</td><td>1</td><td>0.25</td><td>0.26</td><td>249</td><td>249</td></tr>\n",
       "<tr><td>17</td><td>1</td><td>2.99</td><td>1.08</td><td>197</td><td>197</td></tr>\n",
       "<tr><td>5</td><td>1</td><td>4.03</td><td>2.84</td><td>171</td><td>70</td></tr>\n",
       "<tr><td>3</td><td>1</td><td>4.19</td><td>3.1</td><td>132</td><td>132</td></tr>\n",
       "<tr><td>8</td><td>1</td><td>5.38</td><td>0.49</td><td>229</td><td>162</td></tr>\n",
       "<tr><td>7</td><td>2</td><td>5.38</td><td>1.31</td><td>206</td><td>206</td></tr>\n",
       "<tr><td>22</td><td>1</td><td>5.38</td><td>1.47</td><td>213</td><td>213</td></tr>\n",
       "<tr><td>20</td><td>1</td><td>5.38</td><td>0.46</td><td>119</td><td>247</td></tr>\n",
       "<tr><td>18</td><td>1</td><td>5.38</td><td>1.0</td><td>78</td><td>248</td></tr>\n",
       "<tr><td>22</td><td>1</td><td>5.38</td><td>1.05</td><td>255</td><td>256</td></tr>\n",
       "<tr><td>23</td><td>1</td><td>5.38</td><td>1.28</td><td>65</td><td>49</td></tr>\n",
       "<tr><td>8</td><td>1</td><td>5.38</td><td>0.78</td><td>247</td><td>69</td></tr>\n",
       "<tr><td>3</td><td>2</td><td>5.39</td><td>0.68</td><td>116</td><td>116</td></tr>\n",
       "<tr><td>10</td><td>1</td><td>5.39</td><td>0.9</td><td>172</td><td>118</td></tr>\n",
       "<tr><td>11</td><td>1</td><td>5.39</td><td>1.16</td><td>124</td><td>124</td></tr>\n",
       "<tr><td>6</td><td>2</td><td>5.39</td><td>1.03</td><td>173</td><td>129</td></tr>\n",
       "<tr><td>3</td><td>1</td><td>5.39</td><td>1.09</td><td>82</td><td>129</td></tr>\n",
       "<tr><td>8</td><td>1</td><td>5.39</td><td>0.49</td><td>231</td><td>13</td></tr>\n",
       "<tr><td>17</td><td>1</td><td>5.39</td><td>0.7</td><td>130</td><td>130</td></tr>\n",
       "</table>\n",
       "only showing top 20 rows\n"
      ],
      "text/plain": [
       "+-----------+----------------+----------+-------------+------------+------------+\n",
       "|hour_of_day|day_of_the_month|total_fare|trip_distance|PULocationID|DOLocationID|\n",
       "+-----------+----------------+----------+-------------+------------+------------+\n",
       "|          8|               1|       0.0|         0.53|         235|         235|\n",
       "|         23|               1|      0.25|         0.26|         249|         249|\n",
       "|         17|               1|      2.99|         1.08|         197|         197|\n",
       "|          5|               1|      4.03|         2.84|         171|          70|\n",
       "|          3|               1|      4.19|          3.1|         132|         132|\n",
       "|          8|               1|      5.38|         0.49|         229|         162|\n",
       "|          7|               2|      5.38|         1.31|         206|         206|\n",
       "|         22|               1|      5.38|         1.47|         213|         213|\n",
       "|         20|               1|      5.38|         0.46|         119|         247|\n",
       "|         18|               1|      5.38|          1.0|          78|         248|\n",
       "|         22|               1|      5.38|         1.05|         255|         256|\n",
       "|         23|               1|      5.38|         1.28|          65|          49|\n",
       "|          8|               1|      5.38|         0.78|         247|          69|\n",
       "|          3|               2|      5.39|         0.68|         116|         116|\n",
       "|         10|               1|      5.39|          0.9|         172|         118|\n",
       "|         11|               1|      5.39|         1.16|         124|         124|\n",
       "|          6|               2|      5.39|         1.03|         173|         129|\n",
       "|          3|               1|      5.39|         1.09|          82|         129|\n",
       "|          8|               1|      5.39|         0.49|         231|          13|\n",
       "|         17|               1|      5.39|          0.7|         130|         130|\n",
       "+-----------+----------------+----------+-------------+------------+------------+\n",
       "only showing top 20 rows"
      ]
     },
     "execution_count": 33,
     "metadata": {},
     "output_type": "execute_result"
    }
   ],
   "source": [
    "\n",
    "high_volume_cleaned_data = high_volume_cleaned_data.select(\"hour_of_day\", \"day_of_the_month\", \"total_fare\", \"trip_distance\", \"PULocationID\", \"DOLocationID\")\n",
    "high_volume_cleaned_data = high_volume_cleaned_data.dropDuplicates([\"hour_of_day\", \"day_of_the_month\", \"total_fare\", \"trip_distance\", \"PULocationID\", \"DOLocationID\"])\n",
    "high_volume_cleaned_data"
   ]
  },
  {
   "cell_type": "code",
   "execution_count": 34,
   "metadata": {},
   "outputs": [
    {
     "name": "stderr",
     "output_type": "stream",
     "text": [
      "                                                                                \r"
     ]
    },
    {
     "data": {
      "text/html": [
       "<table border='1'>\n",
       "<tr><th>hour_of_day</th><th>day_of_the_month</th><th>total_fare</th><th>trip_distance</th><th>PULocationID</th><th>DOLocationID</th></tr>\n",
       "<tr><td>8</td><td>1</td><td>0.0</td><td>0.53</td><td>235</td><td>235</td></tr>\n",
       "<tr><td>23</td><td>1</td><td>0.25</td><td>0.26</td><td>249</td><td>249</td></tr>\n",
       "<tr><td>17</td><td>1</td><td>2.990000009536743</td><td>1.08</td><td>197</td><td>197</td></tr>\n",
       "<tr><td>5</td><td>1</td><td>4.03000020980835</td><td>2.84</td><td>171</td><td>70</td></tr>\n",
       "<tr><td>3</td><td>1</td><td>4.190000057220459</td><td>3.1</td><td>132</td><td>132</td></tr>\n",
       "<tr><td>8</td><td>1</td><td>5.380000114440918</td><td>0.49</td><td>229</td><td>162</td></tr>\n",
       "<tr><td>7</td><td>2</td><td>5.380000114440918</td><td>1.31</td><td>206</td><td>206</td></tr>\n",
       "<tr><td>22</td><td>1</td><td>5.380000114440918</td><td>1.47</td><td>213</td><td>213</td></tr>\n",
       "<tr><td>20</td><td>1</td><td>5.380000114440918</td><td>0.46</td><td>119</td><td>247</td></tr>\n",
       "<tr><td>18</td><td>1</td><td>5.380000114440918</td><td>1.0</td><td>78</td><td>248</td></tr>\n",
       "<tr><td>22</td><td>1</td><td>5.380000114440918</td><td>1.05</td><td>255</td><td>256</td></tr>\n",
       "<tr><td>23</td><td>1</td><td>5.380000114440918</td><td>1.28</td><td>65</td><td>49</td></tr>\n",
       "<tr><td>8</td><td>1</td><td>5.380000114440918</td><td>0.78</td><td>247</td><td>69</td></tr>\n",
       "<tr><td>3</td><td>2</td><td>5.389999866485596</td><td>0.68</td><td>116</td><td>116</td></tr>\n",
       "<tr><td>10</td><td>1</td><td>5.389999866485596</td><td>0.9</td><td>172</td><td>118</td></tr>\n",
       "<tr><td>11</td><td>1</td><td>5.389999866485596</td><td>1.16</td><td>124</td><td>124</td></tr>\n",
       "<tr><td>6</td><td>2</td><td>5.389999866485596</td><td>1.03</td><td>173</td><td>129</td></tr>\n",
       "<tr><td>3</td><td>1</td><td>5.389999866485596</td><td>1.09</td><td>82</td><td>129</td></tr>\n",
       "<tr><td>8</td><td>1</td><td>5.389999866485596</td><td>0.49</td><td>231</td><td>13</td></tr>\n",
       "<tr><td>17</td><td>1</td><td>5.389999866485596</td><td>0.7</td><td>130</td><td>130</td></tr>\n",
       "</table>\n",
       "only showing top 20 rows\n"
      ],
      "text/plain": [
       "+-----------+----------------+-----------------+-------------+------------+------------+\n",
       "|hour_of_day|day_of_the_month|       total_fare|trip_distance|PULocationID|DOLocationID|\n",
       "+-----------+----------------+-----------------+-------------+------------+------------+\n",
       "|          8|               1|              0.0|         0.53|         235|         235|\n",
       "|         23|               1|             0.25|         0.26|         249|         249|\n",
       "|         17|               1|2.990000009536743|         1.08|         197|         197|\n",
       "|          5|               1| 4.03000020980835|         2.84|         171|          70|\n",
       "|          3|               1|4.190000057220459|          3.1|         132|         132|\n",
       "|          8|               1|5.380000114440918|         0.49|         229|         162|\n",
       "|          7|               2|5.380000114440918|         1.31|         206|         206|\n",
       "|         22|               1|5.380000114440918|         1.47|         213|         213|\n",
       "|         20|               1|5.380000114440918|         0.46|         119|         247|\n",
       "|         18|               1|5.380000114440918|          1.0|          78|         248|\n",
       "|         22|               1|5.380000114440918|         1.05|         255|         256|\n",
       "|         23|               1|5.380000114440918|         1.28|          65|          49|\n",
       "|          8|               1|5.380000114440918|         0.78|         247|          69|\n",
       "|          3|               2|5.389999866485596|         0.68|         116|         116|\n",
       "|         10|               1|5.389999866485596|          0.9|         172|         118|\n",
       "|         11|               1|5.389999866485596|         1.16|         124|         124|\n",
       "|          6|               2|5.389999866485596|         1.03|         173|         129|\n",
       "|          3|               1|5.389999866485596|         1.09|          82|         129|\n",
       "|          8|               1|5.389999866485596|         0.49|         231|          13|\n",
       "|         17|               1|5.389999866485596|          0.7|         130|         130|\n",
       "+-----------+----------------+-----------------+-------------+------------+------------+\n",
       "only showing top 20 rows"
      ]
     },
     "execution_count": 34,
     "metadata": {},
     "output_type": "execute_result"
    }
   ],
   "source": [
    "combined_df = high_volume_cleaned_data.union(yellow_taxi_cleaned_data).union(green_taxi_cleaned_data)\n",
    "combined_df"
   ]
  },
  {
   "cell_type": "code",
   "execution_count": 52,
   "metadata": {},
   "outputs": [],
   "source": [
    "\n",
    "for column in combined_df.columns:\n",
    "    combined_df = combined_df.withColumn(column, col(column).cast(\"float\"))\n",
    "df = combined_df"
   ]
  },
  {
   "cell_type": "code",
   "execution_count": 53,
   "metadata": {},
   "outputs": [],
   "source": [
    "\n",
    "df = df.dropDuplicates([\"hour_of_day\", \"day_of_the_month\", \"total_fare\", \"trip_distance\", \"PULocationID\", \"DOLocationID\"])"
   ]
  },
  {
   "cell_type": "code",
   "execution_count": 54,
   "metadata": {},
   "outputs": [],
   "source": [
    "from pyspark.ml.feature import VectorAssembler, StringIndexer\n",
    "from pyspark.ml.regression import RandomForestRegressor\n",
    "from pyspark.ml import Pipeline\n",
    "\n",
    "# Assuming you have already created a SparkSession\n",
    "spark = SparkSession.builder.appName(\"RandomForestExample\").getOrCreate()\n",
    "\n",
    "# Assuming df is your DataFrame\n",
    "feature_columns = [\"hour_of_day\", \"day_of_the_month\", \"trip_distance\", \"PULocationID\", \"DOLocationID\"]\n",
    "\n",
    "# Use StringIndexer for categorical features\n",
    "categorical_features = [\"hour_of_day\", \"PULocationID\", \"DOLocationID\", \"day_of_the_month\"]\n",
    "\n",
    "assembler = VectorAssembler(inputCols=[\"trip_distance\"] + [column for column in categorical_features], outputCol=\"features\")\n",
    "\n",
    "df = assembler.transform(df)\n",
    "\n",
    "(training_data, testing_data) = df.randomSplit([0.8, 0.2], seed=42)\n",
    "\n",
    "# Specify the target column ('loction_trip_count') in the labelCol parameter\n",
    "rf = RandomForestRegressor(labelCol='total_fare', featuresCol=\"features\")\n",
    "\n",
    "\n"
   ]
  },
  {
   "cell_type": "code",
   "execution_count": null,
   "metadata": {},
   "outputs": [],
   "source": [
    "# Train the model\n",
    "model = rf.fit(training_data)"
   ]
  },
  {
   "cell_type": "code",
   "execution_count": 60,
   "metadata": {},
   "outputs": [],
   "source": [
    "predictions = model.transform(testing_data)\n"
   ]
  },
  {
   "cell_type": "code",
   "execution_count": 61,
   "metadata": {},
   "outputs": [
    {
     "name": "stdout",
     "output_type": "stream",
     "text": [
      "Root Mean Squared Error (RMSE) on test data = 88.62161256352616\n"
     ]
    }
   ],
   "source": [
    "from pyspark.ml.evaluation import RegressionEvaluator\n",
    "\n",
    "evaluator = RegressionEvaluator(labelCol=\"total_fare\", predictionCol=\"prediction\", metricName=\"rmse\")\n",
    "rmse = evaluator.evaluate(predictions)\n",
    "print(\"Root Mean Squared Error (RMSE) on test data =\", rmse)"
   ]
  },
  {
   "cell_type": "code",
   "execution_count": 63,
   "metadata": {},
   "outputs": [
    {
     "name": "stdout",
     "output_type": "stream",
     "text": [
      "+-----------+----------------+----------+-------------+------------+------------+--------------------+------------------+\n",
      "|hour_of_day|day_of_the_month|total_fare|trip_distance|PULocationID|DOLocationID|            features|        prediction|\n",
      "+-----------+----------------+----------+-------------+------------+------------+--------------------+------------------+\n",
      "|        0.0|             1.0|      5.47|        0.715|       256.0|       255.0|[0.71499997377395...|12.762117489296934|\n",
      "|        0.0|             1.0|      5.53|        1.515|        74.0|       168.0|[1.51499998569488...|13.459094471069516|\n",
      "|        0.0|             1.0|      5.64|         1.21|       225.0|        37.0|[1.21000003814697...|12.147813554727623|\n",
      "|        0.0|             1.0|       6.2|        1.603|       234.0|       233.0|[1.60300004482269...|13.082000909702373|\n",
      "|        0.0|             1.0|      6.75|         1.83|       114.0|       261.0|[1.83000004291534...|13.807725323307732|\n",
      "+-----------+----------------+----------+-------------+------------+------------+--------------------+------------------+\n",
      "only showing top 5 rows\n",
      "\n"
     ]
    }
   ],
   "source": [
    "predictions.show(5)"
   ]
  },
  {
   "cell_type": "code",
   "execution_count": 64,
   "metadata": {},
   "outputs": [],
   "source": [
    "selected_df = predictions.select(\"hour_of_day\", \"day_of_the_month\", \"total_fare\", \"trip_distance\", \"PULocationID\", \"DOLocationID\", \"prediction\")\n",
    "selected_df.write.csv(\"fare_predictions_sept.csv\", header=True, mode=\"overwrite\")"
   ]
  },
  {
   "cell_type": "code",
   "execution_count": 66,
   "metadata": {},
   "outputs": [
    {
     "data": {
      "image/png": "[encoded data removed]",
      "text/plain": [
       "<Figure size 1000x600 with 1 Axes>"
      ]
     },
     "metadata": {},
     "output_type": "display_data"
    }
   ],
   "source": [
    "import matplotlib.pyplot as plt\n",
    "import seaborn as sns\n",
    "import pandas as pd\n",
    "\n",
    "# Extract feature importance from the trained model\n",
    "feature_importance = model.featureImportances.toArray()\n",
    "feature_names = [\"hour_of_day\", \"day_of_the_month\", \"trip_distance\", \"PULocationID\", \"DOLocationID\"]\n",
    "\n",
    "# Create a DataFrame for feature importance\n",
    "feature_importance_df = pd.DataFrame({'Feature': feature_names, 'Importance': feature_importance})\n",
    "\n",
    "# Plot feature importance\n",
    "plt.figure(figsize=(10, 6))\n",
    "sns.barplot(x='Importance', y='Feature', data=feature_importance_df.sort_values(by='Importance', ascending=False))\n",
    "plt.title('Feature Importance')\n",
    "plt.show()\n"
   ]
  },
  {
   "cell_type": "code",
   "execution_count": null,
   "metadata": {},
   "outputs": [],
   "source": [
    "\n",
    "\n"
   ]
  }
 ],
 "metadata": {
  "kernelspec": {
   "display_name": "my_env",
   "language": "python",
   "name": "my_env"
  },
  "language_info": {
   "codemirror_mode": {
    "name": "ipython",
    "version": 3
   },
   "file_extension": ".py",
   "mimetype": "text/x-python",
   "name": "python",
   "nbconvert_exporter": "python",
   "pygments_lexer": "ipython3",
   "version": "3.11.5"
  }
 },
 "nbformat": 4,
 "nbformat_minor": 4
}
